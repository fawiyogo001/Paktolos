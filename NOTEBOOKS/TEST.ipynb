{
 "cells": [
  {
   "cell_type": "code",
   "execution_count": 12,
   "metadata": {},
   "outputs": [],
   "source": [
    "# Standard Libraries\n",
    "import numpy as np\n",
    "import pandas as pd\n",
    "from pandas import Series, DataFrame\n",
    "import colorcet as cc\n",
    "import textwrap\n",
    "\n",
    "# Date & Time\n",
    "import datetime as dt\n",
    "import calendar\n",
    "from calendar import monthrange\n",
    "\n",
    "# Data Visualization\n",
    "import seaborn as sns\n",
    "import matplotlib.pyplot as plt\n",
    "import matplotlib.dates as mdates\n",
    "import plotly.express as px\n",
    "import plotly.graph_objects as go\n",
    "import plotly.io as pio\n",
    "from IPython.display import HTML\n",
    "\n",
    "# Statistics & Maths\n",
    "import math\n",
    "from scipy.stats import mannwhitneyu\n",
    "from sklearn.preprocessing import MinMaxScaler\n",
    "import ruptures as rpt\n",
    "\n",
    "# Functions\n",
    "import sys\n",
    "import os\n",
    "\n",
    "# Add parent directory + SCRIPTS to the import path\n",
    "sys.path.append(os.path.abspath(\"../SCRIPTS\"))\n",
    "\n",
    "from DATA_ANALYSIS import DESCRIBE_VARIABLE, DAY_TYPE_LABELLING, TEMPORAL_AGGREGATION, RUN_STAT_TEST, MAP_STATION_COORDINATES\n",
    "from REPORT_MANAGEMENT import REGISTER_REPORT_COMPONENT, SAVE_PLOT_AND_REGISTER, GENERATE_REPORT"
   ]
  },
  {
   "cell_type": "code",
   "execution_count": 13,
   "metadata": {},
   "outputs": [
    {
     "data": {
      "text/html": [
       "<div>\n",
       "<style scoped>\n",
       "    .dataframe tbody tr th:only-of-type {\n",
       "        vertical-align: middle;\n",
       "    }\n",
       "\n",
       "    .dataframe tbody tr th {\n",
       "        vertical-align: top;\n",
       "    }\n",
       "\n",
       "    .dataframe thead th {\n",
       "        text-align: right;\n",
       "    }\n",
       "</style>\n",
       "<table border=\"1\" class=\"dataframe\">\n",
       "  <thead>\n",
       "    <tr style=\"text-align: right;\">\n",
       "      <th></th>\n",
       "      <th>Date</th>\n",
       "      <th>Income/Expenses</th>\n",
       "      <th>Category</th>\n",
       "      <th>Memo</th>\n",
       "      <th>Amount</th>\n",
       "    </tr>\n",
       "  </thead>\n",
       "  <tbody>\n",
       "    <tr>\n",
       "      <th>0</th>\n",
       "      <td>2019-05-28</td>\n",
       "      <td>Expenses</td>\n",
       "      <td>Telephone</td>\n",
       "      <td>Top Up Singtel Card @7-Eleven, Clementi</td>\n",
       "      <td>-10.0</td>\n",
       "    </tr>\n",
       "    <tr>\n",
       "      <th>1</th>\n",
       "      <td>2019-05-28</td>\n",
       "      <td>Expenses</td>\n",
       "      <td>Gift</td>\n",
       "      <td>NaN</td>\n",
       "      <td>-15.3</td>\n",
       "    </tr>\n",
       "    <tr>\n",
       "      <th>2</th>\n",
       "      <td>2019-05-28</td>\n",
       "      <td>Expenses</td>\n",
       "      <td>Drinks</td>\n",
       "      <td>Bubble Tea @Koi, Takashimaya, Orchard</td>\n",
       "      <td>-1.8</td>\n",
       "    </tr>\n",
       "    <tr>\n",
       "      <th>3</th>\n",
       "      <td>2019-05-28</td>\n",
       "      <td>Expenses</td>\n",
       "      <td>Gift</td>\n",
       "      <td>NaN</td>\n",
       "      <td>-32.0</td>\n",
       "    </tr>\n",
       "    <tr>\n",
       "      <th>4</th>\n",
       "      <td>2019-05-28</td>\n",
       "      <td>Expenses</td>\n",
       "      <td>Food</td>\n",
       "      <td>Korean BBQ @I Am Kim, Rochor</td>\n",
       "      <td>-15.0</td>\n",
       "    </tr>\n",
       "  </tbody>\n",
       "</table>\n",
       "</div>"
      ],
      "text/plain": [
       "         Date Income/Expenses   Category  \\\n",
       "0  2019-05-28        Expenses  Telephone   \n",
       "1  2019-05-28        Expenses       Gift   \n",
       "2  2019-05-28        Expenses     Drinks   \n",
       "3  2019-05-28        Expenses       Gift   \n",
       "4  2019-05-28        Expenses       Food   \n",
       "\n",
       "                                      Memo  Amount  \n",
       "0  Top Up Singtel Card @7-Eleven, Clementi   -10.0  \n",
       "1                                      NaN   -15.3  \n",
       "2    Bubble Tea @Koi, Takashimaya, Orchard    -1.8  \n",
       "3                                      NaN   -32.0  \n",
       "4             Korean BBQ @I Am Kim, Rochor   -15.0  "
      ]
     },
     "execution_count": 13,
     "metadata": {},
     "output_type": "execute_result"
    }
   ],
   "source": [
    "# Dataset\n",
    "CASH_FLOW = pd.read_csv('../DATA/RAW/CASH_FLOW_01082018_31072019.csv')\n",
    "CASH_FLOW.head()"
   ]
  },
  {
   "cell_type": "code",
   "execution_count": 14,
   "metadata": {},
   "outputs": [
    {
     "name": "stdout",
     "output_type": "stream",
     "text": [
      "<class 'pandas.core.frame.DataFrame'>\n",
      "RangeIndex: 622 entries, 0 to 621\n",
      "Data columns (total 5 columns):\n",
      " #   Column           Non-Null Count  Dtype  \n",
      "---  ------           --------------  -----  \n",
      " 0   Date             622 non-null    object \n",
      " 1   Income/Expenses  622 non-null    object \n",
      " 2   Category         622 non-null    object \n",
      " 3   Memo             584 non-null    object \n",
      " 4   Amount           622 non-null    float64\n",
      "dtypes: float64(1), object(4)\n",
      "memory usage: 24.4+ KB\n"
     ]
    }
   ],
   "source": [
    "CASH_FLOW.info()"
   ]
  },
  {
   "cell_type": "code",
   "execution_count": 15,
   "metadata": {},
   "outputs": [
    {
     "name": "stdout",
     "output_type": "stream",
     "text": [
      "object\n"
     ]
    }
   ],
   "source": [
    "print(CASH_FLOW[\"Date\"].dtype)"
   ]
  },
  {
   "cell_type": "code",
   "execution_count": 16,
   "metadata": {},
   "outputs": [],
   "source": [
    "# CASH_FLOW = CASH_FLOW[CASH_FLOW[\"Date\"].notna()]\n",
    "# CASH_FLOW"
   ]
  },
  {
   "cell_type": "code",
   "execution_count": 17,
   "metadata": {},
   "outputs": [
    {
     "data": {
      "text/html": [
       "<div>\n",
       "<style scoped>\n",
       "    .dataframe tbody tr th:only-of-type {\n",
       "        vertical-align: middle;\n",
       "    }\n",
       "\n",
       "    .dataframe tbody tr th {\n",
       "        vertical-align: top;\n",
       "    }\n",
       "\n",
       "    .dataframe thead th {\n",
       "        text-align: right;\n",
       "    }\n",
       "</style>\n",
       "<table border=\"1\" class=\"dataframe\">\n",
       "  <thead>\n",
       "    <tr style=\"text-align: right;\">\n",
       "      <th></th>\n",
       "      <th>Amount</th>\n",
       "    </tr>\n",
       "  </thead>\n",
       "  <tbody>\n",
       "    <tr>\n",
       "      <th>count</th>\n",
       "      <td>622.000000</td>\n",
       "    </tr>\n",
       "    <tr>\n",
       "      <th>mean</th>\n",
       "      <td>1.656672</td>\n",
       "    </tr>\n",
       "    <tr>\n",
       "      <th>std</th>\n",
       "      <td>39.005284</td>\n",
       "    </tr>\n",
       "    <tr>\n",
       "      <th>min</th>\n",
       "      <td>-88.000000</td>\n",
       "    </tr>\n",
       "    <tr>\n",
       "      <th>25%</th>\n",
       "      <td>-5.300000</td>\n",
       "    </tr>\n",
       "    <tr>\n",
       "      <th>50%</th>\n",
       "      <td>-3.900000</td>\n",
       "    </tr>\n",
       "    <tr>\n",
       "      <th>75%</th>\n",
       "      <td>-2.800000</td>\n",
       "    </tr>\n",
       "    <tr>\n",
       "      <th>max</th>\n",
       "      <td>400.000000</td>\n",
       "    </tr>\n",
       "  </tbody>\n",
       "</table>\n",
       "</div>"
      ],
      "text/plain": [
       "           Amount\n",
       "count  622.000000\n",
       "mean     1.656672\n",
       "std     39.005284\n",
       "min    -88.000000\n",
       "25%     -5.300000\n",
       "50%     -3.900000\n",
       "75%     -2.800000\n",
       "max    400.000000"
      ]
     },
     "execution_count": 17,
     "metadata": {},
     "output_type": "execute_result"
    }
   ],
   "source": [
    "# Dataset Description\n",
    "CASH_FLOW.describe()"
   ]
  },
  {
   "cell_type": "code",
   "execution_count": 18,
   "metadata": {},
   "outputs": [],
   "source": [
    "EXPECTED_COLUMNS = [\"Date\", \"Category\", \"Memo\", \"Income/Expenses\", \"Amount\"]\n",
    "for col in EXPECTED_COLUMNS:\n",
    "    if col not in CASH_FLOW.columns:\n",
    "        raise ValueError(f\"Missing expected column: {col}\")"
   ]
  },
  {
   "cell_type": "code",
   "execution_count": 19,
   "metadata": {},
   "outputs": [],
   "source": [
    "SPLIT_COLS = CASH_FLOW[\"Memo\"].str.split('@', n=1, expand=True)\n",
    "CASH_FLOW[\"Item\"] = SPLIT_COLS[0].str.strip()\n",
    "CASH_FLOW[\"Location\"] = SPLIT_COLS[1].str.strip().fillna(\"Blank\")"
   ]
  },
  {
   "cell_type": "code",
   "execution_count": 20,
   "metadata": {},
   "outputs": [
    {
     "data": {
      "text/html": [
       "<div>\n",
       "<style scoped>\n",
       "    .dataframe tbody tr th:only-of-type {\n",
       "        vertical-align: middle;\n",
       "    }\n",
       "\n",
       "    .dataframe tbody tr th {\n",
       "        vertical-align: top;\n",
       "    }\n",
       "\n",
       "    .dataframe thead th {\n",
       "        text-align: right;\n",
       "    }\n",
       "</style>\n",
       "<table border=\"1\" class=\"dataframe\">\n",
       "  <thead>\n",
       "    <tr style=\"text-align: right;\">\n",
       "      <th></th>\n",
       "      <th>Date</th>\n",
       "      <th>Income/Expenses</th>\n",
       "      <th>Category</th>\n",
       "      <th>Memo</th>\n",
       "      <th>Amount</th>\n",
       "      <th>Item</th>\n",
       "      <th>Location</th>\n",
       "    </tr>\n",
       "  </thead>\n",
       "  <tbody>\n",
       "    <tr>\n",
       "      <th>0</th>\n",
       "      <td>2019-05-28</td>\n",
       "      <td>Expenses</td>\n",
       "      <td>Telephone</td>\n",
       "      <td>Top Up Singtel Card @7-Eleven, Clementi</td>\n",
       "      <td>-10.0</td>\n",
       "      <td>Top Up Singtel Card</td>\n",
       "      <td>7-Eleven, Clementi</td>\n",
       "    </tr>\n",
       "    <tr>\n",
       "      <th>1</th>\n",
       "      <td>2019-05-28</td>\n",
       "      <td>Expenses</td>\n",
       "      <td>Gift</td>\n",
       "      <td>NaN</td>\n",
       "      <td>-15.3</td>\n",
       "      <td>NaN</td>\n",
       "      <td>Blank</td>\n",
       "    </tr>\n",
       "    <tr>\n",
       "      <th>2</th>\n",
       "      <td>2019-05-28</td>\n",
       "      <td>Expenses</td>\n",
       "      <td>Drinks</td>\n",
       "      <td>Bubble Tea @Koi, Takashimaya, Orchard</td>\n",
       "      <td>-1.8</td>\n",
       "      <td>Bubble Tea</td>\n",
       "      <td>Koi, Takashimaya, Orchard</td>\n",
       "    </tr>\n",
       "    <tr>\n",
       "      <th>3</th>\n",
       "      <td>2019-05-28</td>\n",
       "      <td>Expenses</td>\n",
       "      <td>Gift</td>\n",
       "      <td>NaN</td>\n",
       "      <td>-32.0</td>\n",
       "      <td>NaN</td>\n",
       "      <td>Blank</td>\n",
       "    </tr>\n",
       "    <tr>\n",
       "      <th>4</th>\n",
       "      <td>2019-05-28</td>\n",
       "      <td>Expenses</td>\n",
       "      <td>Food</td>\n",
       "      <td>Korean BBQ @I Am Kim, Rochor</td>\n",
       "      <td>-15.0</td>\n",
       "      <td>Korean BBQ</td>\n",
       "      <td>I Am Kim, Rochor</td>\n",
       "    </tr>\n",
       "  </tbody>\n",
       "</table>\n",
       "</div>"
      ],
      "text/plain": [
       "         Date Income/Expenses   Category  \\\n",
       "0  2019-05-28        Expenses  Telephone   \n",
       "1  2019-05-28        Expenses       Gift   \n",
       "2  2019-05-28        Expenses     Drinks   \n",
       "3  2019-05-28        Expenses       Gift   \n",
       "4  2019-05-28        Expenses       Food   \n",
       "\n",
       "                                      Memo  Amount                 Item  \\\n",
       "0  Top Up Singtel Card @7-Eleven, Clementi   -10.0  Top Up Singtel Card   \n",
       "1                                      NaN   -15.3                  NaN   \n",
       "2    Bubble Tea @Koi, Takashimaya, Orchard    -1.8           Bubble Tea   \n",
       "3                                      NaN   -32.0                  NaN   \n",
       "4             Korean BBQ @I Am Kim, Rochor   -15.0           Korean BBQ   \n",
       "\n",
       "                    Location  \n",
       "0         7-Eleven, Clementi  \n",
       "1                      Blank  \n",
       "2  Koi, Takashimaya, Orchard  \n",
       "3                      Blank  \n",
       "4           I Am Kim, Rochor  "
      ]
     },
     "execution_count": 20,
     "metadata": {},
     "output_type": "execute_result"
    }
   ],
   "source": [
    "CASH_FLOW.head()"
   ]
  },
  {
   "cell_type": "code",
   "execution_count": 21,
   "metadata": {},
   "outputs": [],
   "source": [
    "LOCATION_CHECK = []\n",
    "for i in CASH_FLOW[\"Location\"]: LOCATION_CHECK.append(str(i).count(\",\") + 1)\n",
    "CASH_FLOW.insert(CASH_FLOW.shape[1],\"Location Check\", LOCATION_CHECK, True)\n",
    "\n",
    "# Fill Empty Location With \"Blank, Blank, Blank\"\n",
    "CASH_FLOW = CASH_FLOW.fillna(\"Blank\")\n",
    "CASH_FLOW.loc[CASH_FLOW[\"Location\"] == \"Blank\", \"Location\"] = \"Blank, Blank, Blank\""
   ]
  },
  {
   "cell_type": "code",
   "execution_count": null,
   "metadata": {},
   "outputs": [],
   "source": []
  }
 ],
 "metadata": {
  "kernelspec": {
   "display_name": "Python 3",
   "language": "python",
   "name": "python3"
  },
  "language_info": {
   "codemirror_mode": {
    "name": "ipython",
    "version": 3
   },
   "file_extension": ".py",
   "mimetype": "text/x-python",
   "name": "python",
   "nbconvert_exporter": "python",
   "pygments_lexer": "ipython3",
   "version": "3.12.3"
  }
 },
 "nbformat": 4,
 "nbformat_minor": 2
}
